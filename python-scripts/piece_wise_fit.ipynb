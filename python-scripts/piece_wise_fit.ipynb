{
 "cells": [
  {
   "cell_type": "code",
   "execution_count": 17,
   "id": "ac9b4f0a-d360-42c3-bdb2-4d508fe92ff2",
   "metadata": {},
   "outputs": [
    {
     "name": "stderr",
     "output_type": "stream",
     "text": [
      "/var/folders/s0/hmlp5rbd1jq4_4kj2zmc89g80000gn/T/ipykernel_3069/447769128.py:59: DeprecationWarning: Starting with ImageIO v3 the behavior of this function will switch to that of iio.v3.imread. To keep the current behavior (and make this warning disappear) use `import imageio.v2 as imageio` or call `imageio.v2.imread` directly.\n",
      "  image = imageio.imread(filename)\n"
     ]
    },
    {
     "name": "stdout",
     "output_type": "stream",
     "text": [
      "GIF animation 'fit_evolution.gif' created successfully!\n"
     ]
    }
   ],
   "source": [
    "import pandas as pd\n",
    "import matplotlib.pyplot as plt\n",
    "import imageio\n",
    "import os\n",
    "\n",
    "start = 10\n",
    "end = 40\n",
    "\n",
    "# Load the data\n",
    "df = pd.read_csv(\"../new-residual-fit.csv\")\n",
    "\n",
    "# Identify the relevant columns\n",
    "x_cols = [f\"x{i}\" for i in range(11)]\n",
    "y_cols = [f\"y{i}\" for i in range(3)]\n",
    "p_cols = [f\"p{i}\" for i in range(3)]\n",
    "\n",
    "# Ensure consistent y-axis limits for a smoother animation\n",
    "y_min = min(df[y_cols + p_cols].min())\n",
    "y_max = max(df[y_cols + p_cols].max())\n",
    "\n",
    "# List to hold the filenames of the frames\n",
    "frames = []\n",
    "\n",
    "# Loop through each unique generation in the DataFrame\n",
    "for generation in df['gen'].unique():\n",
    "    # Filter the DataFrame for the current generation\n",
    "    gen_df = df[df['gen'] == generation]\n",
    "\n",
    "    # Create the plot for this generation\n",
    "    fig, axs = plt.subplots(3, 1, figsize=(8, 10), sharex=True)\n",
    "    fig.suptitle(f\"Generation {generation}: Prediction vs. Truth\")\n",
    "\n",
    "    for i, (y_col, p_col) in enumerate(zip(y_cols, p_cols)):\n",
    "        ax = axs[i]\n",
    "        \n",
    "        # Plot the truth values\n",
    "        ax.plot(gen_df[x_cols[0]][start:end], gen_df[y_col][start:end], label='Truth', color='black')\n",
    "        \n",
    "        # Plot the prediction values\n",
    "        ax.plot(gen_df[x_cols[0]][start:end], gen_df[p_col][start:end], label='Prediction', linestyle='--')\n",
    "        \n",
    "        ax.set_ylabel(f\"{y_col} / {p_col}\")\n",
    "        ax.set_ylim(y_min, y_max)  # Set fixed y-axis limits\n",
    "        ax.legend()\n",
    "        ax.grid(True)\n",
    "    \n",
    "    axs[-1].set_xlabel(x_cols[0])\n",
    "    plt.tight_layout(rect=[0, 0, 1, 0.96])\n",
    "    \n",
    "    # Save the figure to a temporary file\n",
    "    filename = f\"generation_{generation:03d}.png\"\n",
    "    plt.savefig(filename)\n",
    "    plt.close(fig)  # Close the figure to free up memory\n",
    "    frames.append(filename)\n",
    "\n",
    "# Create the GIF from the saved frames\n",
    "with imageio.get_writer('fit_evolution.gif', mode='I', fps=5) as writer:\n",
    "    for filename in frames:\n",
    "        image = imageio.imread(filename)\n",
    "        writer.append_data(image)\n",
    "\n",
    "# Clean up the temporary image files\n",
    "for filename in frames:\n",
    "    os.remove(filename)\n",
    "\n",
    "print(\"GIF animation 'fit_evolution.gif' created successfully!\")"
   ]
  },
  {
   "cell_type": "code",
   "execution_count": null,
   "id": "221c7ef4-323d-44f2-8450-02601cb04fe4",
   "metadata": {},
   "outputs": [],
   "source": [
    "plot-piecewi"
   ]
  }
 ],
 "metadata": {
  "kernelspec": {
   "display_name": "Python 3 (ipykernel)",
   "language": "python",
   "name": "python3"
  },
  "language_info": {
   "codemirror_mode": {
    "name": "ipython",
    "version": 3
   },
   "file_extension": ".py",
   "mimetype": "text/x-python",
   "name": "python",
   "nbconvert_exporter": "python",
   "pygments_lexer": "ipython3",
   "version": "3.9.6"
  }
 },
 "nbformat": 4,
 "nbformat_minor": 5
}
