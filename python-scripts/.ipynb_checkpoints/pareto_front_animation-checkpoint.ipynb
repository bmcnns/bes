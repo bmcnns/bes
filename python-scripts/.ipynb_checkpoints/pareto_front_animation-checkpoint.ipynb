{
 "cells": [
  {
   "cell_type": "code",
   "execution_count": 8,
   "id": "f6dd98ce-631c-4ef1-948f-fc111ea9784c",
   "metadata": {},
   "outputs": [
    {
     "name": "stderr",
     "output_type": "stream",
     "text": [
      "MovieWriter ffmpeg unavailable; using Pillow instead.\n"
     ]
    },
    {
     "data": {
      "image/png": "[encoded data removed]",
      "text/plain": [
       "<Figure size 640x480 with 1 Axes>"
      ]
     },
     "metadata": {},
     "output_type": "display_data"
    }
   ],
   "source": [
    "import pandas as pd\n",
    "import numpy as np\n",
    "import matplotlib.pyplot as plt\n",
    "from matplotlib.animation import FuncAnimation\n",
    "\n",
    "# --- Load & prepare ---\n",
    "df = pd.read_csv(\n",
    "    \"../experiments/results.csv\",\n",
    "    header=None,\n",
    "    names=[\"generation\", \"individual\", \"support\", \"confidence\"]\n",
    ")\n",
    "\n",
    "# Negate support for plotting (copy to avoid SettingWithCopyWarning)\n",
    "df_plot = df.copy()\n",
    "#df_plot.loc[:, \"support\"] *= -1\n",
    "\n",
    "gens = np.sort(df_plot[\"generation\"].unique())\n",
    "\n",
    "# Fix axes across frames for a stable animation\n",
    "x_min, x_max = df_plot[\"support\"].min(), df_plot[\"support\"].max()\n",
    "y_min, y_max = df_plot[\"confidence\"].min(), df_plot[\"confidence\"].max()\n",
    "\n",
    "# --- Figure & artists ---\n",
    "fig, ax = plt.subplots()\n",
    "scat = ax.scatter([], [], s=12)  # small points; adjust as you like\n",
    "ax.set_xlim(x_min, x_max)\n",
    "ax.set_ylim(0, 2)\n",
    "ax.set_xlabel(\"Support\")\n",
    "ax.set_ylabel(\"Confidence\")\n",
    "title = ax.set_title(\"\")\n",
    "\n",
    "def init():\n",
    "    # Empty the scatter\n",
    "    scat.set_offsets(np.empty((0, 2)))\n",
    "    title.set_text(\"\")\n",
    "    return scat, title\n",
    "\n",
    "def animate(i):\n",
    "    g = gens[i]\n",
    "    d = df_plot[df_plot[\"generation\"] == g]\n",
    "    # Update point positions\n",
    "    xy = np.column_stack([d[\"support\"].to_numpy(), d[\"confidence\"].to_numpy()])\n",
    "    scat.set_offsets(xy)\n",
    "    title.set_text(f\"Generation {g} (n={len(d)})\")\n",
    "    return scat, title\n",
    "\n",
    "ani = FuncAnimation(\n",
    "    fig, animate, frames=len(gens), init_func=init,\n",
    "    interval=0.05, blit=False, repeat=True\n",
    ")\n",
    "\n",
    "ani.save(\"ParetoFront.gif\")\n",
    "plt.show()\n"
   ]
  },
  {
   "cell_type": "code",
   "execution_count": 23,
   "id": "ec3d3b60-7ff6-4b2c-90c4-2c0c78e5269e",
   "metadata": {
    "scrolled": true
   },
   "outputs": [
    {
     "name": "stderr",
     "output_type": "stream",
     "text": [
      "/var/folders/s0/hmlp5rbd1jq4_4kj2zmc89g80000gn/T/ipykernel_24345/517245972.py:1: UserWarning: Boolean Series key will be reindexed to match DataFrame index.\n",
      "  interest = df_plot[df_plot['generation'] > 98][df_plot['support'] < 0]\n"
     ]
    }
   ],
   "source": [
    "interest = df_plot[df_plot['generation'] > 98][df_plot['support'] < 0] "
   ]
  },
  {
   "cell_type": "code",
   "execution_count": 22,
   "id": "4b178b5b-b1f1-4539-af75-27085a69b3ca",
   "metadata": {},
   "outputs": [
    {
     "data": {
      "text/html": [
       "<div>\n",
       "<style scoped>\n",
       "    .dataframe tbody tr th:only-of-type {\n",
       "        vertical-align: middle;\n",
       "    }\n",
       "\n",
       "    .dataframe tbody tr th {\n",
       "        vertical-align: top;\n",
       "    }\n",
       "\n",
       "    .dataframe thead th {\n",
       "        text-align: right;\n",
       "    }\n",
       "</style>\n",
       "<table border=\"1\" class=\"dataframe\">\n",
       "  <thead>\n",
       "    <tr style=\"text-align: right;\">\n",
       "      <th></th>\n",
       "      <th>generation</th>\n",
       "      <th>individual</th>\n",
       "      <th>support</th>\n",
       "      <th>confidence</th>\n",
       "    </tr>\n",
       "  </thead>\n",
       "  <tbody>\n",
       "    <tr>\n",
       "      <th>197001</th>\n",
       "      <td>99</td>\n",
       "      <td>1</td>\n",
       "      <td>-1</td>\n",
       "      <td>5.960465e-08</td>\n",
       "    </tr>\n",
       "    <tr>\n",
       "      <th>197009</th>\n",
       "      <td>99</td>\n",
       "      <td>9</td>\n",
       "      <td>-1</td>\n",
       "      <td>9.555995e-03</td>\n",
       "    </tr>\n",
       "    <tr>\n",
       "      <th>197011</th>\n",
       "      <td>99</td>\n",
       "      <td>11</td>\n",
       "      <td>-1</td>\n",
       "      <td>3.159046e-06</td>\n",
       "    </tr>\n",
       "    <tr>\n",
       "      <th>197013</th>\n",
       "      <td>99</td>\n",
       "      <td>13</td>\n",
       "      <td>-2</td>\n",
       "      <td>3.633058e-04</td>\n",
       "    </tr>\n",
       "    <tr>\n",
       "      <th>197014</th>\n",
       "      <td>99</td>\n",
       "      <td>14</td>\n",
       "      <td>-1</td>\n",
       "      <td>6.608963e-04</td>\n",
       "    </tr>\n",
       "    <tr>\n",
       "      <th>...</th>\n",
       "      <td>...</td>\n",
       "      <td>...</td>\n",
       "      <td>...</td>\n",
       "      <td>...</td>\n",
       "    </tr>\n",
       "    <tr>\n",
       "      <th>198930</th>\n",
       "      <td>99</td>\n",
       "      <td>1930</td>\n",
       "      <td>-1</td>\n",
       "      <td>1.541572e-01</td>\n",
       "    </tr>\n",
       "    <tr>\n",
       "      <th>198931</th>\n",
       "      <td>99</td>\n",
       "      <td>1931</td>\n",
       "      <td>-1</td>\n",
       "      <td>1.556276e-01</td>\n",
       "    </tr>\n",
       "    <tr>\n",
       "      <th>198932</th>\n",
       "      <td>99</td>\n",
       "      <td>1932</td>\n",
       "      <td>-1</td>\n",
       "      <td>1.598216e-01</td>\n",
       "    </tr>\n",
       "    <tr>\n",
       "      <th>198934</th>\n",
       "      <td>99</td>\n",
       "      <td>1934</td>\n",
       "      <td>-1</td>\n",
       "      <td>1.912025e-01</td>\n",
       "    </tr>\n",
       "    <tr>\n",
       "      <th>198935</th>\n",
       "      <td>99</td>\n",
       "      <td>1935</td>\n",
       "      <td>-1</td>\n",
       "      <td>1.928921e-01</td>\n",
       "    </tr>\n",
       "  </tbody>\n",
       "</table>\n",
       "<p>934 rows × 4 columns</p>\n",
       "</div>"
      ],
      "text/plain": [
       "        generation  individual  support    confidence\n",
       "197001          99           1       -1  5.960465e-08\n",
       "197009          99           9       -1  9.555995e-03\n",
       "197011          99          11       -1  3.159046e-06\n",
       "197013          99          13       -2  3.633058e-04\n",
       "197014          99          14       -1  6.608963e-04\n",
       "...            ...         ...      ...           ...\n",
       "198930          99        1930       -1  1.541572e-01\n",
       "198931          99        1931       -1  1.556276e-01\n",
       "198932          99        1932       -1  1.598216e-01\n",
       "198934          99        1934       -1  1.912025e-01\n",
       "198935          99        1935       -1  1.928921e-01\n",
       "\n",
       "[934 rows x 4 columns]"
      ]
     },
     "execution_count": 22,
     "metadata": {},
     "output_type": "execute_result"
    }
   ],
   "source": [
    "interest"
   ]
  },
  {
   "cell_type": "code",
   "execution_count": null,
   "id": "9dfed67c-4c9f-4158-aff1-180e9cfbd463",
   "metadata": {},
   "outputs": [],
   "source": []
  }
 ],
 "metadata": {
  "kernelspec": {
   "display_name": "Python 3 (ipykernel)",
   "language": "python",
   "name": "python3"
  },
  "language_info": {
   "codemirror_mode": {
    "name": "ipython",
    "version": 3
   },
   "file_extension": ".py",
   "mimetype": "text/x-python",
   "name": "python",
   "nbconvert_exporter": "python",
   "pygments_lexer": "ipython3",
   "version": "3.9.6"
  }
 },
 "nbformat": 4,
 "nbformat_minor": 5
}
