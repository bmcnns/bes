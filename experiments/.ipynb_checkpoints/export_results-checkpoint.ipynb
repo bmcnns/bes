{
 "cells": [
  {
   "cell_type": "code",
   "execution_count": 58,
   "id": "c165be03-3229-4758-a806-d1ae92115b37",
   "metadata": {},
   "outputs": [],
   "source": [
    "import pandas as pd\n",
    "import glob\n",
    "import numpy as np\n",
    "\n",
    "def convert_results_to_old_format(dataset, num_actions):\n",
    "    results_paths = glob.glob(f\"runs/{dataset}/results-*.csv\")\n",
    "\n",
    "    results = pd.concat([\n",
    "        pd.read_csv(f).assign(run=i) for i, f in enumerate(results_paths)\n",
    "    ], ignore_index=True).rename(columns={\"MIN_MEAN-SQUARED-ERROR\": \"error\"}).assign(dataset=f\"{dataset}\").drop(columns=['AVG_MEAN-SQUARED-ERROR', 'MAX_MEAN-SQUARED-ERROR'], axis=1)\n",
    "\n",
    "    # Repeat the DataFrame 3 times\n",
    "    df_repeated = pd.concat([results]*3, ignore_index=True)\n",
    "    \n",
    "    # Assign rotating actions 1, 2, 3 to each third\n",
    "    df_repeated[\"action\"] = np.tile(list(range(num_actions+1)[1:]), len(results))\n",
    "    \n",
    "    # Now df_repeated has the desired shape\n",
    "    results = df_repeated\n",
    "    \n",
    "    desired_order = ['dataset', 'run', 'generation', 'action', 'error']\n",
    "    results = results[desired_order]\n",
    "\n",
    "    return results\n",
    "\n",
    "def convert_evaluations_to_old_format(dataset):\n",
    "    evaluations_paths = glob.glob(f\"runs/{dataset}/evaluations-*.csv\")\n",
    "\n",
    "    evaluations = pd.concat([\n",
    "        pd.read_csv(f).assign(run=i) for i, f in enumerate(evaluations_paths)\n",
    "    ], ignore_index=True).drop(\"environment\", axis=1)\n",
    "\n",
    "    desired_order = ['seed', 'run', 'total_reward']\n",
    "    evaluations = evaluations[desired_order]\n",
    "    return evaluations"
   ]
  },
  {
   "cell_type": "code",
   "execution_count": 64,
   "id": "7d3e902d-bb60-4661-a869-d6c7c0f298a0",
   "metadata": {},
   "outputs": [],
   "source": [
    "convert_results_to_old_format(\"Minimal-Hopper-Expert-v5\", 3).to_csv(\"bes_Minimal-Hopper-Expert-v5_results.csv\", index=False, header=False)\n",
    "convert_evaluations_to_old_format(\"Minimal-Hopper-Expert-v5\").to_csv(\"bes_Minimal-Hopper-Expert-v5_evaluations.csv\", index=False)"
   ]
  },
  {
   "cell_type": "code",
   "execution_count": 65,
   "id": "37d55346-43d6-4e44-a5cf-3c28b880cfa8",
   "metadata": {},
   "outputs": [],
   "source": [
    "convert_results_to_old_format(\"Hopper-Expert-v5\", 3).to_csv(\"bes_Hopper-Expert-v5_results.csv\", index=False, header=False)\n",
    "convert_evaluations_to_old_format(\"Hopper-Expert-v5\").to_csv(\"bes_Hopper-Expert-v5_evaluations.csv\", index=False)"
   ]
  },
  {
   "cell_type": "code",
   "execution_count": null,
   "id": "bf517053-a169-4ee6-afe9-093393c44aaa",
   "metadata": {},
   "outputs": [],
   "source": []
  }
 ],
 "metadata": {
  "kernelspec": {
   "display_name": "Python 3 (ipykernel)",
   "language": "python",
   "name": "python3"
  },
  "language_info": {
   "codemirror_mode": {
    "name": "ipython",
    "version": 3
   },
   "file_extension": ".py",
   "mimetype": "text/x-python",
   "name": "python",
   "nbconvert_exporter": "python",
   "pygments_lexer": "ipython3",
   "version": "3.9.6"
  }
 },
 "nbformat": 4,
 "nbformat_minor": 5
}
